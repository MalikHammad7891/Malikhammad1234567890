{
  "nbformat": 4,
  "nbformat_minor": 0,
  "metadata": {
    "colab": {
      "provenance": []
    },
    "kernelspec": {
      "name": "python3",
      "display_name": "Python 3"
    },
    "language_info": {
      "name": "python"
    }
  },
  "cells": [
    {
      "cell_type": "code",
      "execution_count": 3,
      "metadata": {
        "id": "i1RNqWDD1sqg"
      },
      "outputs": [],
      "source": [
        "# Import necessary libraries\n",
        "import pandas as pd\n",
        "import numpy as np\n",
        "from sklearn.model_selection import train_test_split, GridSearchCV\n",
        "from sklearn.ensemble import RandomForestClassifier\n",
        "from sklearn.tree import DecisionTreeClassifier\n",
        "from sklearn.svm import SVC\n",
        "from sklearn.metrics import accuracy_score, classification_report, confusion_matrix\n",
        "import matplotlib.pyplot as plt\n",
        "import seaborn as sns\n"
      ]
    },
    {
      "cell_type": "code",
      "source": [
        "# Load the dataset\n",
        "data = pd.read_csv('/content/originalheart.csv')\n",
        "\n",
        "# Display the first few rows of the dataset to understand its structure\n",
        "print(data.head())\n",
        "\n",
        "# Display the column names\n",
        "print(data.columns)\n",
        "\n",
        "# Separate features (X) and target (y)\n",
        "X = data.drop(columns=['target'])  # Replace 'target' with the correct name if different\n",
        "y = data['target']\n",
        "\n",
        "# Split the data into training and testing sets\n",
        "X_train, X_test, y_train, y_test = train_test_split(X, y, test_size=0.2, random_state=50)\n",
        "\n",
        "print(\"Data Preparation Complete.\")\n"
      ],
      "metadata": {
        "colab": {
          "base_uri": "https://localhost:8080/"
        },
        "id": "rezs-Sxt3Bp_",
        "outputId": "8c4b204f-33f7-4121-dfa1-91abc7b28516"
      },
      "execution_count": 6,
      "outputs": [
        {
          "output_type": "stream",
          "name": "stdout",
          "text": [
            "    age  sex   cp  tresbps   chol  fbs  restecg  thalach  exang  oldpeak  \\\n",
            "0  63.0  1.0  1.0    145.0  233.0  1.0      2.0    150.0    0.0      2.3   \n",
            "1  67.0  1.0  4.0    160.0  286.0  0.0      2.0    108.0    1.0      1.5   \n",
            "2  67.0  1.0  4.0    120.0  229.0  0.0      2.0    129.0    1.0      2.6   \n",
            "3  37.0  1.0  3.0    130.0  250.0  0.0      0.0    187.0    0.0      3.5   \n",
            "4  41.0  0.0  2.0    130.0  204.0  0.0      2.0    172.0    0.0      1.4   \n",
            "\n",
            "   slope   ca thal  target  \n",
            "0    3.0  0.0  6.0       0  \n",
            "1    2.0  3.0  3.0       2  \n",
            "2    2.0  2.0  7.0       1  \n",
            "3    3.0  0.0  3.0       0  \n",
            "4    1.0  0.0  3.0       0  \n",
            "Index(['age', 'sex', 'cp', 'tresbps', 'chol', 'fbs', 'restecg', 'thalach',\n",
            "       'exang', 'oldpeak', 'slope', 'ca', 'thal', 'target'],\n",
            "      dtype='object')\n",
            "Data Preparation Complete.\n"
          ]
        }
      ]
    },
    {
      "cell_type": "code",
      "source": [
        "from sklearn.impute import SimpleImputer\n",
        "from sklearn.preprocessing import StandardScaler\n",
        "from sklearn.tree import DecisionTreeClassifier\n",
        "from sklearn.metrics import accuracy_score, classification_report, confusion_matrix\n",
        "\n",
        "# Handle non-numeric values by replacing '?' with NaN (before converting to NumPy array)\n",
        "X_train = pd.DataFrame(X_train).replace('?', np.nan)\n",
        "X_test = pd.DataFrame(X_test).replace('?', np.nan)\n",
        "\n",
        "# Convert all columns to numeric, coercing errors to NaN\n",
        "X_train = X_train.apply(pd.to_numeric, errors='coerce')\n",
        "X_test = X_test.apply(pd.to_numeric, errors='coerce')\n",
        "\n",
        "# Fill missing values with the median of each column (often better than mean)\n",
        "imputer = SimpleImputer(strategy='median')\n",
        "X_train = imputer.fit_transform(X_train)\n",
        "X_test = imputer.transform(X_test)\n",
        "\n",
        "# Feature scaling\n",
        "scaler = StandardScaler()\n",
        "X_train = scaler.fit_transform(X_train)\n",
        "X_test = scaler.transform(X_test)\n",
        "\n",
        "# Optimize Decision Tree hyperparameters\n",
        "dt_model = DecisionTreeClassifier(\n",
        "    criterion='gini',          # 'entropy' can also be tried\n",
        "    max_depth=10,              # Depth of the tree, reducing overfitting\n",
        "    min_samples_split=10,      # Minimum samples required to split a node\n",
        "    min_samples_leaf=5,        # Minimum samples required at each leaf node\n",
        "    random_state=42\n",
        ")\n",
        "\n",
        "# Train the model\n",
        "dt_model.fit(X_train, y_train)\n",
        "\n",
        "# Make predictions on the test set\n",
        "y_pred_dt = dt_model.predict(X_test)\n",
        "\n",
        "# Evaluate the model\n",
        "dt_accuracy = accuracy_score(y_test, y_pred_dt)\n",
        "print(f\"Improved Decision Tree Accuracy: {dt_accuracy * 100:.2f}%\")\n",
        "print(\"Classification Report:\\n\", classification_report(y_test, y_pred_dt))\n",
        "print(\"Confusion Matrix:\\n\", confusion_matrix(y_test, y_pred_dt))\n"
      ],
      "metadata": {
        "colab": {
          "base_uri": "https://localhost:8080/"
        },
        "id": "iq-UhyNP5GrV",
        "outputId": "736d3ee3-159a-4769-9016-79fbca2b1ed5"
      },
      "execution_count": 20,
      "outputs": [
        {
          "output_type": "stream",
          "name": "stdout",
          "text": [
            "Improved Decision Tree Accuracy: 62.30%\n",
            "Classification Report:\n",
            "               precision    recall  f1-score   support\n",
            "\n",
            "           0       0.79      0.87      0.83        30\n",
            "           1       0.36      0.31      0.33        13\n",
            "           2       0.50      0.38      0.43         8\n",
            "           3       0.56      0.56      0.56         9\n",
            "           4       0.00      0.00      0.00         1\n",
            "\n",
            "    accuracy                           0.62        61\n",
            "   macro avg       0.44      0.42      0.43        61\n",
            "weighted avg       0.61      0.62      0.62        61\n",
            "\n",
            "Confusion Matrix:\n",
            " [[26  4  0  0  0]\n",
            " [ 4  4  1  2  2]\n",
            " [ 1  3  3  1  0]\n",
            " [ 2  0  2  5  0]\n",
            " [ 0  0  0  1  0]]\n"
          ]
        }
      ]
    },
    {
      "cell_type": "code",
      "source": [
        "# Initialize the Random Forest model\n",
        "rf_model = RandomForestClassifier(random_state=42)\n",
        "\n",
        "# Train the model\n",
        "rf_model.fit(X_train, y_train)\n",
        "\n",
        "# Make predictions on the test set\n",
        "y_pred_rf = rf_model.predict(X_test)\n",
        "\n",
        "# Evaluate the model\n",
        "rf_accuracy = accuracy_score(y_test, y_pred_rf)\n",
        "print(f\"Random Forest Accuracy: {rf_accuracy * 100:.2f}%\")\n",
        "print(\"Classification Report:\\n\", classification_report(y_test, y_pred_rf))\n",
        "print(\"Confusion Matrix:\\n\", confusion_matrix(y_test, y_pred_rf))\n"
      ],
      "metadata": {
        "colab": {
          "base_uri": "https://localhost:8080/"
        },
        "id": "JylLoWot5I5x",
        "outputId": "1827123e-b0cf-40ff-b9aa-8205d2f449b5"
      },
      "execution_count": 27,
      "outputs": [
        {
          "output_type": "stream",
          "name": "stdout",
          "text": [
            "Random Forest Accuracy: 59.02%\n",
            "Classification Report:\n",
            "               precision    recall  f1-score   support\n",
            "\n",
            "           0       0.77      1.00      0.87        30\n",
            "           1       0.14      0.08      0.10        13\n",
            "           2       0.50      0.50      0.50         8\n",
            "           3       0.17      0.11      0.13         9\n",
            "           4       0.00      0.00      0.00         1\n",
            "\n",
            "    accuracy                           0.59        61\n",
            "   macro avg       0.32      0.34      0.32        61\n",
            "weighted avg       0.50      0.59      0.53        61\n",
            "\n",
            "Confusion Matrix:\n",
            " [[30  0  0  0  0]\n",
            " [ 6  1  3  3  0]\n",
            " [ 2  0  4  2  0]\n",
            " [ 1  5  1  1  1]\n",
            " [ 0  1  0  0  0]]\n"
          ]
        }
      ]
    },
    {
      "cell_type": "code",
      "source": [
        "from sklearn.svm import SVC\n",
        "from sklearn.metrics import accuracy_score, classification_report, confusion_matrix\n",
        "from sklearn.preprocessing import StandardScaler\n",
        "\n",
        "# Handle non-numeric values by replacing '?' with NaN\n",
        "X_train_df = pd.DataFrame(X_train)\n",
        "X_test_df = pd.DataFrame(X_test)\n",
        "X_train_df.replace('?', np.nan, inplace=True)\n",
        "X_test_df.replace('?', np.nan, inplace=True)\n",
        "\n",
        "# Convert all columns to numeric, coercing errors to NaN\n",
        "X_train_df = X_train_df.apply(pd.to_numeric, errors='coerce')\n",
        "X_test_df = X_test_df.apply(pd.to_numeric, errors='coerce')\n",
        "\n",
        "# Fill missing values with the mean of each column\n",
        "X_train_df.fillna(X_train_df.mean(), inplace=True)\n",
        "X_test_df.fillna(X_test_df.mean(), inplace=True)\n",
        "\n",
        "# Feature scaling to normalize the data for SVM\n",
        "scaler = StandardScaler()\n",
        "X_train_scaled = scaler.fit_transform(X_train_df)\n",
        "X_test_scaled = scaler.transform(X_test_df)\n",
        "\n",
        "# Initialize the SVM model with tuned parameters\n",
        "svm_model = SVC(random_state=42, kernel='rbf', C=1.0, gamma='scale')\n",
        "\n",
        "# Train the model\n",
        "svm_model.fit(X_train_scaled, y_train)\n",
        "\n",
        "# Make predictions on the test set\n",
        "y_pred_svm = svm_model.predict(X_test_scaled)\n",
        "\n",
        "# Evaluate the model\n",
        "svm_accuracy = accuracy_score(y_test, y_pred_svm)\n",
        "print(f\"Improved SVM Accuracy: {svm_accuracy * 100:.2f}%\")\n",
        "print(\"Classification Report:\\n\", classification_report(y_test, y_pred_svm))\n",
        "print(\"Confusion Matrix:\\n\", confusion_matrix(y_test, y_pred_svm))\n"
      ],
      "metadata": {
        "colab": {
          "base_uri": "https://localhost:8080/"
        },
        "id": "VtOWE4mt-olq",
        "outputId": "e48a78eb-3a7c-42df-d4c5-8abe382305a5"
      },
      "execution_count": 25,
      "outputs": [
        {
          "output_type": "stream",
          "name": "stdout",
          "text": [
            "Improved SVM Accuracy: 60.66%\n",
            "Classification Report:\n",
            "               precision    recall  f1-score   support\n",
            "\n",
            "           0       0.76      0.97      0.85        30\n",
            "           1       0.36      0.31      0.33        13\n",
            "           2       0.38      0.38      0.38         8\n",
            "           3       0.25      0.11      0.15         9\n",
            "           4       0.00      0.00      0.00         1\n",
            "\n",
            "    accuracy                           0.61        61\n",
            "   macro avg       0.35      0.35      0.34        61\n",
            "weighted avg       0.54      0.61      0.56        61\n",
            "\n",
            "Confusion Matrix:\n",
            " [[29  0  1  0  0]\n",
            " [ 6  4  1  2  0]\n",
            " [ 2  2  3  1  0]\n",
            " [ 1  4  3  1  0]\n",
            " [ 0  1  0  0  0]]\n"
          ]
        },
        {
          "output_type": "stream",
          "name": "stderr",
          "text": [
            "/usr/local/lib/python3.10/dist-packages/sklearn/metrics/_classification.py:1471: UndefinedMetricWarning: Precision and F-score are ill-defined and being set to 0.0 in labels with no predicted samples. Use `zero_division` parameter to control this behavior.\n",
            "  _warn_prf(average, modifier, msg_start, len(result))\n",
            "/usr/local/lib/python3.10/dist-packages/sklearn/metrics/_classification.py:1471: UndefinedMetricWarning: Precision and F-score are ill-defined and being set to 0.0 in labels with no predicted samples. Use `zero_division` parameter to control this behavior.\n",
            "  _warn_prf(average, modifier, msg_start, len(result))\n",
            "/usr/local/lib/python3.10/dist-packages/sklearn/metrics/_classification.py:1471: UndefinedMetricWarning: Precision and F-score are ill-defined and being set to 0.0 in labels with no predicted samples. Use `zero_division` parameter to control this behavior.\n",
            "  _warn_prf(average, modifier, msg_start, len(result))\n"
          ]
        }
      ]
    },
    {
      "cell_type": "code",
      "source": [
        "# Dictionary to store the accuracy of each model\n",
        "model_accuracies = {\n",
        "    \"Decision Tree\": dt_accuracy,\n",
        "    \"Random Forest\": rf_accuracy,\n",
        "    \"SVM\": svm_accuracy\n",
        "}\n",
        "\n",
        "# Determine the best model based on accuracy\n",
        "best_model_name = max(model_accuracies, key=model_accuracies.get)\n",
        "best_model_accuracy = model_accuracies[best_model_name]\n",
        "\n",
        "# Print the accuracy of each model\n",
        "print(f\"Decision Tree Accuracy: {dt_accuracy * 100:.2f}%\")\n",
        "print(f\"Random Forest Accuracy: {rf_accuracy * 100:.2f}%\")\n",
        "print(f\"SVM Accuracy: {svm_accuracy * 100:.2f}%\")\n",
        "\n",
        "# Print the best model and its accuracy\n",
        "print(f\"\\nBest Model: {best_model_name} with Accuracy: {best_model_accuracy * 100:.2f}%\")\n"
      ],
      "metadata": {
        "colab": {
          "base_uri": "https://localhost:8080/"
        },
        "id": "WvgvfWB-_L6V",
        "outputId": "c7624fb1-9511-4384-9ba1-2fd491b78e9d"
      },
      "execution_count": 28,
      "outputs": [
        {
          "output_type": "stream",
          "name": "stdout",
          "text": [
            "Decision Tree Accuracy: 62.30%\n",
            "Random Forest Accuracy: 59.02%\n",
            "SVM Accuracy: 60.66%\n",
            "\n",
            "Best Model: Decision Tree with Accuracy: 62.30%\n"
          ]
        }
      ]
    }
  ]
}